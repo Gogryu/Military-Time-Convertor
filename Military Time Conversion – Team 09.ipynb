{
 "cells": [
  {
   "cell_type": "code",
   "execution_count": 5,
   "id": "62430f3f",
   "metadata": {},
   "outputs": [
    {
     "name": "stdout",
     "output_type": "stream",
     "text": [
      "input time 06:20pm\n",
      "p\n",
      "['eighteen', 'hundred', 'twenty', 'hours']\n",
      "eighteen hundred twenty hours\n"
     ]
    }
   ],
   "source": [
    "\n",
    "\n",
    "# ,-*'^'~*-.,_,.-*~   🎀  𝑀𝒾𝓁𝒾𝓉𝒶𝓇𝓎 𝒯𝒾𝓂𝑒 𝒞☯𝓃𝓋𝑒𝓇𝓈𝒾🌸𝓃  🎀   ~*-.,_,.-*~'^'*-,\n",
    "\n",
    "\n",
    "time = input(\"input time \")\n",
    "arr_time = time.split(\":\")\n",
    "hour = {\"12\": [\"zero\", \"twelve\"], \"01\": [\"one\", \"thirteen\"], \"02\": [\"two\", \"fourteen\"],\n",
    "        \"03\": [\"three\", \"fifteen\"], \"04\": [\"four\", \"sixteen\"], \"05\": [\"five\", \"seventeen\"],\n",
    "        \"06\": [\"six\", \"eighteen\"], \"07\": [\"seven\", \"nineteen\"], \"08\": [\"eight\", \"twenty\"],\n",
    "        \"09\": [\"nine\", \"twenty one\"], \"10\": [\"ten\", \"twenty two\"], \"11\": [\"eleven\", \"twenty three\"]}\n",
    "minute = {\"2\": \"twenty\", \"3\": \"thirty\", \"4\": \"fourty\", \"5\": \"fifty\", \"6\": \"sixty\", \"7\": \"seventy\",\n",
    "          \"8\": \"eighty\", \"9\": \"ninety\"}\n",
    "final = []\n",
    "am = True\n",
    "if arr_time[1][2] == \"p\":\n",
    "    am = False\n",
    "print(arr_time[1][2])\n",
    "if am == True:\n",
    "    final.append(hour[arr_time[0]][0])\n",
    "else:\n",
    "    final.append(hour[arr_time[0]][1])\n",
    "if arr_time[1][:2] == \"00\":\n",
    "    pass\n",
    "elif arr_time[1][0] == \"0\":\n",
    "    final.append(\"zero\")\n",
    "    if str(arr_time[1][1]) ==\"0\":\n",
    "        pass\n",
    "    else:\n",
    "        final.append(hour[\"0\"+str(arr_time[1][1])][0])\n",
    "elif arr_time[1][0] == \"1\":\n",
    "    print(\"enter\")\n",
    "    if int(arr_time[1][:2]) < 13:\n",
    "        final.append(hour[arr_time[1][:2]][0])\n",
    "    else:\n",
    "        if str(arr_time[1][1]) ==\"0\":\n",
    "            pass\n",
    "        else:\n",
    "            final.append(hour[\"0\" + str(int(arr_time[1][:2]) - 12)][1])\n",
    "else:\n",
    "    final.append(minute[arr_time[1][0]])\n",
    "    if str(arr_time[1][1]) ==\"0\":\n",
    "        pass\n",
    "    else:\n",
    "        final.append(hour[\"0\" + str(int(arr_time[1][1]))][0])\n",
    "final.insert(1, \"hundred\")\n",
    "final.append(\"hours\")\n",
    "print(final)\n",
    "print(\" \".join(final))\n"
   ]
  },
  {
   "cell_type": "code",
   "execution_count": null,
   "id": "ff871b1a",
   "metadata": {},
   "outputs": [],
   "source": []
  }
 ],
 "metadata": {
  "kernelspec": {
   "display_name": "Python 3 (ipykernel)",
   "language": "python",
   "name": "python3"
  },
  "language_info": {
   "codemirror_mode": {
    "name": "ipython",
    "version": 3
   },
   "file_extension": ".py",
   "mimetype": "text/x-python",
   "name": "python",
   "nbconvert_exporter": "python",
   "pygments_lexer": "ipython3",
   "version": "3.9.13"
  }
 },
 "nbformat": 4,
 "nbformat_minor": 5
}
